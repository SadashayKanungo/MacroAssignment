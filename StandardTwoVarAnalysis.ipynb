{
 "cells": [
  {
   "cell_type": "code",
   "execution_count": 1,
   "metadata": {},
   "outputs": [],
   "source": [
    "import sys\n",
    "import pandas as pd\n",
    "import numpy as np\n",
    "import matplotlib.pyplot as plt\n",
    "import statsmodels.api as sm\n",
    "from statsmodels.tsa.stattools import adfuller, grangercausalitytests, coint"
   ]
  },
  {
   "cell_type": "code",
   "execution_count": 2,
   "metadata": {},
   "outputs": [],
   "source": [
    "def adf_test(timeseries):    \n",
    "    test = adfuller(timeseries, autolag='AIC')\n",
    "    result = pd.Series(test[0:4], index=['Test Statistic','p-value','#Lags Used','Number of Observations Used'])\n",
    "    for key,value in test[4].items() :\n",
    "        result['Critical Value (%s)'%key] = value\n",
    "    return result"
   ]
  },
  {
   "cell_type": "code",
   "execution_count": 3,
   "metadata": {},
   "outputs": [],
   "source": [
    "def is_nonstationary(result):\n",
    "    if abs(result['Test Statistic']) > abs(result['Critical Value (5%)']):\n",
    "        return False\n",
    "    else:\n",
    "        return True"
   ]
  },
  {
   "cell_type": "code",
   "execution_count": 4,
   "metadata": {},
   "outputs": [],
   "source": [
    "def print_adf_result(result):\n",
    "    print ('Augmented Dickey-Fuller Unit Root Test\\nNull Hypothesis : Time Series in Non-Stationary')\n",
    "    print (result[['#Lags Used','Test Statistic','p-value','Critical Value (5%)']])\n",
    "    print(\"At 5% significance level\")\n",
    "    if abs(result['Test Statistic']) > abs(result['Critical Value (5%)']):\n",
    "        print (\"Reject Null Hypothesis - Time Series is Stationary\")\n",
    "    else:\n",
    "        print (\"Failed to Reject Null Hypothesis - Time Series is Non-Stationary\")"
   ]
  },
  {
   "cell_type": "code",
   "execution_count": 5,
   "metadata": {},
   "outputs": [],
   "source": [
    "def print_coint_result(result):\n",
    "    print(\"Engel Granger Cointegration Test\\nNull Hypothesis : No Cointegration\")\n",
    "    print(\"t-Statistic :\\t\\t\", result[0])\n",
    "    print(\"p-value :\\t\\t\", result[1])\n",
    "    print(\"Critical Value 1% :\\t\", result[2][0])\n",
    "    print(\"Critical Value 5% :\\t\", result[2][1])\n",
    "    print(\"Critical Value 10% :\\t\", result[2][2])\n",
    "    print(\"At 5% significance level\")\n",
    "    if(result[1]<=0.05):\n",
    "        print(\"Reject Null Hypothesis - Cointegration is present\")\n",
    "    else:\n",
    "        print(\"Failed to reject Null Hypothesis - No Cointegration\")"
   ]
  },
  {
   "cell_type": "code",
   "execution_count": 6,
   "metadata": {},
   "outputs": [],
   "source": [
    "def make_stationary(timeseries):\n",
    "    diff_timeseries = timeseries.copy(deep=True)\n",
    "    while(is_nonstationary(adf_test(diff_timeseries))):\n",
    "        diff_timeseries = diff_timeseries.diff().dropna()\n",
    "        \n",
    "    return diff_timeseries"
   ]
  },
  {
   "cell_type": "code",
   "execution_count": 7,
   "metadata": {},
   "outputs": [],
   "source": [
    "def print_granger_result(result):\n",
    "    pvalues = []\n",
    "    for i in result:\n",
    "        pvalues.append(result[i][0]['params_ftest'][1])\n",
    "    best_lag = pvalues.index(min(pvalues))+1\n",
    "    print(\"Granger Causality\")\n",
    "    print(\"Best number of Lags :\\t\", best_lag)\n",
    "    print(\"F-statistic :\\t\", result[best_lag][0]['params_ftest'][0])\n",
    "    print(\"p-value :\\t\", result[best_lag][0]['params_ftest'][1])\n",
    "    print(\"At 5% significance level\")\n",
    "    if(result[best_lag][0]['params_ftest'][1] < 0.05):\n",
    "        print(\"Causality is significant\")\n",
    "    else:\n",
    "        print(\"Causality is insignificant\")"
   ]
  },
  {
   "cell_type": "code",
   "execution_count": 8,
   "metadata": {},
   "outputs": [],
   "source": [
    "def run_tests(df):\n",
    "    print(\"NIFTY\")\n",
    "    print_adf_result(adf_test(df['NIFTY']))\n",
    "    print('\\n')\n",
    "    print(\"FOREX\")\n",
    "    print_adf_result(adf_test(df['FOREX']))\n",
    "    print('\\n')\n",
    "    \n",
    "    df['NIFTY_s'] = make_stationary(df['NIFTY'])\n",
    "    df['FOREX_s'] = make_stationary(df['FOREX'])\n",
    "    \n",
    "    print(\"First Difference - NIFTY\")\n",
    "    print_adf_result(adf_test(df['NIFTY_s'].dropna()))\n",
    "    print('\\n')\n",
    "    print(\"First Difference - FOREX\")\n",
    "    print_adf_result(adf_test(df['FOREX_s'].dropna()))\n",
    "    print('\\n')\n",
    "    \n",
    "    df=df.dropna()\n",
    "    print(\"\\n\\nCointegration NIFTY-FOREX\")\n",
    "    coint_A = coint(df['NIFTY_s'], df['FOREX_s'], trend='c', maxlag=15)\n",
    "    print_coint_result(coint_A)\n",
    "    \n",
    "    print(\"\\nCausality from NIFTY to FOREX\")\n",
    "    granger_A = grangercausalitytests(df[['FOREX_s','NIFTY_s']].dropna(), maxlag=10, verbose=False)\n",
    "    print_granger_result(granger_A)\n",
    "    print(\"\\nCausality from FOREX to NIFTY\")\n",
    "    granger_B = grangercausalitytests(df[['NIFTY_s','FOREX_s']].dropna(), maxlag=10, verbose=False)\n",
    "    print_granger_result(granger_B)"
   ]
  },
  {
   "cell_type": "code",
   "execution_count": 9,
   "metadata": {},
   "outputs": [],
   "source": [
    "niftydf = pd.read_csv('NIFTY.csv', index_col=\"Date\")\n",
    "forexdf = pd.read_csv('FOREX.csv', index_col=\"Date\")\n",
    "df = pd.concat([niftydf,forexdf], axis=1)\n",
    "df['NIFTY'] = pd.to_numeric(df['NIFTY'], errors=\"coerce\")\n",
    "df['FOREX'] = pd.to_numeric(df['FOREX'], errors=\"coerce\")\n",
    "df = df.dropna()"
   ]
  },
  {
   "cell_type": "code",
   "execution_count": 10,
   "metadata": {},
   "outputs": [
    {
     "name": "stdout",
     "output_type": "stream",
     "text": [
      "1243\n",
      "2718\n"
     ]
    }
   ],
   "source": [
    "i = df[df.index == '01-Jan-09'].iloc[0]\n",
    "print(df.index.get_loc(i.name))\n",
    "i = df[df.index == '31-Dec-14'].iloc[0]\n",
    "print(df.index.get_loc(i.name))"
   ]
  },
  {
   "cell_type": "code",
   "execution_count": 11,
   "metadata": {},
   "outputs": [
    {
     "data": {
      "text/html": [
       "<div>\n",
       "<style scoped>\n",
       "    .dataframe tbody tr th:only-of-type {\n",
       "        vertical-align: middle;\n",
       "    }\n",
       "\n",
       "    .dataframe tbody tr th {\n",
       "        vertical-align: top;\n",
       "    }\n",
       "\n",
       "    .dataframe thead th {\n",
       "        text-align: right;\n",
       "    }\n",
       "</style>\n",
       "<table border=\"1\" class=\"dataframe\">\n",
       "  <thead>\n",
       "    <tr style=\"text-align: right;\">\n",
       "      <th></th>\n",
       "      <th>NIFTY</th>\n",
       "      <th>FOREX</th>\n",
       "    </tr>\n",
       "    <tr>\n",
       "      <th>Date</th>\n",
       "      <th></th>\n",
       "      <th></th>\n",
       "    </tr>\n",
       "  </thead>\n",
       "  <tbody>\n",
       "    <tr>\n",
       "      <th>01-Jan-09</th>\n",
       "      <td>2998.350</td>\n",
       "      <td>48.064999</td>\n",
       "    </tr>\n",
       "    <tr>\n",
       "      <th>02-Jan-09</th>\n",
       "      <td>3040.650</td>\n",
       "      <td>48.154999</td>\n",
       "    </tr>\n",
       "    <tr>\n",
       "      <th>05-Jan-09</th>\n",
       "      <td>3090.075</td>\n",
       "      <td>48.514499</td>\n",
       "    </tr>\n",
       "    <tr>\n",
       "      <th>06-Jan-09</th>\n",
       "      <td>3117.150</td>\n",
       "      <td>48.502500</td>\n",
       "    </tr>\n",
       "    <tr>\n",
       "      <th>07-Jan-09</th>\n",
       "      <td>3016.600</td>\n",
       "      <td>48.526998</td>\n",
       "    </tr>\n",
       "    <tr>\n",
       "      <th>...</th>\n",
       "      <td>...</td>\n",
       "      <td>...</td>\n",
       "    </tr>\n",
       "    <tr>\n",
       "      <th>24-Dec-14</th>\n",
       "      <td>8223.075</td>\n",
       "      <td>63.381501</td>\n",
       "    </tr>\n",
       "    <tr>\n",
       "      <th>26-Dec-14</th>\n",
       "      <td>8202.750</td>\n",
       "      <td>63.471500</td>\n",
       "    </tr>\n",
       "    <tr>\n",
       "      <th>29-Dec-14</th>\n",
       "      <td>8230.500</td>\n",
       "      <td>63.551500</td>\n",
       "    </tr>\n",
       "    <tr>\n",
       "      <th>30-Dec-14</th>\n",
       "      <td>8254.250</td>\n",
       "      <td>63.662998</td>\n",
       "    </tr>\n",
       "    <tr>\n",
       "      <th>31-Dec-14</th>\n",
       "      <td>8263.300</td>\n",
       "      <td>63.377998</td>\n",
       "    </tr>\n",
       "  </tbody>\n",
       "</table>\n",
       "<p>1476 rows × 2 columns</p>\n",
       "</div>"
      ],
      "text/plain": [
       "              NIFTY      FOREX\n",
       "Date                          \n",
       "01-Jan-09  2998.350  48.064999\n",
       "02-Jan-09  3040.650  48.154999\n",
       "05-Jan-09  3090.075  48.514499\n",
       "06-Jan-09  3117.150  48.502500\n",
       "07-Jan-09  3016.600  48.526998\n",
       "...             ...        ...\n",
       "24-Dec-14  8223.075  63.381501\n",
       "26-Dec-14  8202.750  63.471500\n",
       "29-Dec-14  8230.500  63.551500\n",
       "30-Dec-14  8254.250  63.662998\n",
       "31-Dec-14  8263.300  63.377998\n",
       "\n",
       "[1476 rows x 2 columns]"
      ]
     },
     "execution_count": 11,
     "metadata": {},
     "output_type": "execute_result"
    }
   ],
   "source": [
    "df = df[1243:2719]\n",
    "df"
   ]
  },
  {
   "cell_type": "code",
   "execution_count": null,
   "metadata": {},
   "outputs": [],
   "source": [
    "sys.stdout=open(\"result3.txt\",\"w\")\n",
    "print(\"ANALYSIS FOR\",df.index[0], \":\", df.index[-1],\"\\n\")\n",
    "run_tests(df)\n",
    "sys.stdout.close()"
   ]
  },
  {
   "cell_type": "code",
   "execution_count": null,
   "metadata": {},
   "outputs": [],
   "source": []
  }
 ],
 "metadata": {
  "kernelspec": {
   "display_name": "Python 3",
   "language": "python",
   "name": "python3"
  },
  "language_info": {
   "codemirror_mode": {
    "name": "ipython",
    "version": 3
   },
   "file_extension": ".py",
   "mimetype": "text/x-python",
   "name": "python",
   "nbconvert_exporter": "python",
   "pygments_lexer": "ipython3",
   "version": "3.7.3"
  }
 },
 "nbformat": 4,
 "nbformat_minor": 2
}
