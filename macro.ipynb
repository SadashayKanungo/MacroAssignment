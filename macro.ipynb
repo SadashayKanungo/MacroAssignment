{
 "cells": [
  {
   "cell_type": "code",
   "execution_count": 1,
   "metadata": {},
   "outputs": [],
   "source": [
    "import pandas as pd\n",
    "import numpy as np\n",
    "import matplotlib.pyplot as plt\n",
    "import statsmodels.api as sm\n",
    "from statsmodels.tsa.stattools import adfuller, grangercausalitytests\n"
   ]
  },
  {
   "cell_type": "code",
   "execution_count": 2,
   "metadata": {
    "scrolled": true
   },
   "outputs": [
    {
     "data": {
      "text/html": [
       "<div>\n",
       "<style scoped>\n",
       "    .dataframe tbody tr th:only-of-type {\n",
       "        vertical-align: middle;\n",
       "    }\n",
       "\n",
       "    .dataframe tbody tr th {\n",
       "        vertical-align: top;\n",
       "    }\n",
       "\n",
       "    .dataframe thead th {\n",
       "        text-align: right;\n",
       "    }\n",
       "</style>\n",
       "<table border=\"1\" class=\"dataframe\">\n",
       "  <thead>\n",
       "    <tr style=\"text-align: right;\">\n",
       "      <th></th>\n",
       "      <th>M2-LCU</th>\n",
       "      <th>M2-%GDP</th>\n",
       "      <th>GDP-per-capita-US$</th>\n",
       "      <th>GDP-US$</th>\n",
       "      <th>GDP-growth-%</th>\n",
       "      <th>Government-expenditure-%GDP</th>\n",
       "      <th>Government-expenditure-US$</th>\n",
       "    </tr>\n",
       "    <tr>\n",
       "      <th>Series Name</th>\n",
       "      <th></th>\n",
       "      <th></th>\n",
       "      <th></th>\n",
       "      <th></th>\n",
       "      <th></th>\n",
       "      <th></th>\n",
       "      <th></th>\n",
       "    </tr>\n",
       "  </thead>\n",
       "  <tbody>\n",
       "    <tr>\n",
       "      <th>1960</th>\n",
       "      <td>8.173208e+09</td>\n",
       "      <td>22.07</td>\n",
       "      <td>82.19</td>\n",
       "      <td>3.702988e+10</td>\n",
       "      <td>NaN</td>\n",
       "      <td>6.57</td>\n",
       "      <td>2.434156e+09</td>\n",
       "    </tr>\n",
       "    <tr>\n",
       "      <th>1961</th>\n",
       "      <td>8.435708e+09</td>\n",
       "      <td>21.50</td>\n",
       "      <td>85.35</td>\n",
       "      <td>3.923244e+10</td>\n",
       "      <td>3.72</td>\n",
       "      <td>6.89</td>\n",
       "      <td>2.704945e+09</td>\n",
       "    </tr>\n",
       "    <tr>\n",
       "      <th>1962</th>\n",
       "      <td>9.246309e+09</td>\n",
       "      <td>21.93</td>\n",
       "      <td>89.88</td>\n",
       "      <td>4.216148e+10</td>\n",
       "      <td>2.93</td>\n",
       "      <td>7.78</td>\n",
       "      <td>3.279987e+09</td>\n",
       "    </tr>\n",
       "    <tr>\n",
       "      <th>1963</th>\n",
       "      <td>1.022491e+10</td>\n",
       "      <td>21.12</td>\n",
       "      <td>101.13</td>\n",
       "      <td>4.842192e+10</td>\n",
       "      <td>5.99</td>\n",
       "      <td>8.71</td>\n",
       "      <td>4.215148e+09</td>\n",
       "    </tr>\n",
       "    <tr>\n",
       "      <th>1964</th>\n",
       "      <td>1.118671e+10</td>\n",
       "      <td>19.81</td>\n",
       "      <td>115.54</td>\n",
       "      <td>5.648029e+10</td>\n",
       "      <td>7.45</td>\n",
       "      <td>8.04</td>\n",
       "      <td>4.542440e+09</td>\n",
       "    </tr>\n",
       "  </tbody>\n",
       "</table>\n",
       "</div>"
      ],
      "text/plain": [
       "                   M2-LCU  M2-%GDP  GDP-per-capita-US$       GDP-US$  \\\n",
       "Series Name                                                            \n",
       "1960         8.173208e+09    22.07               82.19  3.702988e+10   \n",
       "1961         8.435708e+09    21.50               85.35  3.923244e+10   \n",
       "1962         9.246309e+09    21.93               89.88  4.216148e+10   \n",
       "1963         1.022491e+10    21.12              101.13  4.842192e+10   \n",
       "1964         1.118671e+10    19.81              115.54  5.648029e+10   \n",
       "\n",
       "             GDP-growth-%  Government-expenditure-%GDP  \\\n",
       "Series Name                                              \n",
       "1960                  NaN                         6.57   \n",
       "1961                 3.72                         6.89   \n",
       "1962                 2.93                         7.78   \n",
       "1963                 5.99                         8.71   \n",
       "1964                 7.45                         8.04   \n",
       "\n",
       "             Government-expenditure-US$  \n",
       "Series Name                              \n",
       "1960                       2.434156e+09  \n",
       "1961                       2.704945e+09  \n",
       "1962                       3.279987e+09  \n",
       "1963                       4.215148e+09  \n",
       "1964                       4.542440e+09  "
      ]
     },
     "execution_count": 2,
     "metadata": {},
     "output_type": "execute_result"
    }
   ],
   "source": [
    "datadf = pd.read_csv('ind.csv', index_col=\"Series Name\")\n",
    "datadf.head()"
   ]
  },
  {
   "cell_type": "code",
   "execution_count": 3,
   "metadata": {
    "scrolled": true
   },
   "outputs": [
    {
     "data": {
      "text/html": [
       "<div>\n",
       "<style scoped>\n",
       "    .dataframe tbody tr th:only-of-type {\n",
       "        vertical-align: middle;\n",
       "    }\n",
       "\n",
       "    .dataframe tbody tr th {\n",
       "        vertical-align: top;\n",
       "    }\n",
       "\n",
       "    .dataframe thead th {\n",
       "        text-align: right;\n",
       "    }\n",
       "</style>\n",
       "<table border=\"1\" class=\"dataframe\">\n",
       "  <thead>\n",
       "    <tr style=\"text-align: right;\">\n",
       "      <th></th>\n",
       "      <th>M2</th>\n",
       "      <th>GE</th>\n",
       "      <th>GDP</th>\n",
       "    </tr>\n",
       "    <tr>\n",
       "      <th>Series Name</th>\n",
       "      <th></th>\n",
       "      <th></th>\n",
       "      <th></th>\n",
       "    </tr>\n",
       "  </thead>\n",
       "  <tbody>\n",
       "    <tr>\n",
       "      <th>1960</th>\n",
       "      <td>22.824127</td>\n",
       "      <td>21.612866</td>\n",
       "      <td>24.334991</td>\n",
       "    </tr>\n",
       "    <tr>\n",
       "      <th>1961</th>\n",
       "      <td>22.855740</td>\n",
       "      <td>21.718348</td>\n",
       "      <td>24.392770</td>\n",
       "    </tr>\n",
       "    <tr>\n",
       "      <th>1962</th>\n",
       "      <td>22.947490</td>\n",
       "      <td>21.911105</td>\n",
       "      <td>24.464773</td>\n",
       "    </tr>\n",
       "    <tr>\n",
       "      <th>1963</th>\n",
       "      <td>23.048093</td>\n",
       "      <td>22.161951</td>\n",
       "      <td>24.603219</td>\n",
       "    </tr>\n",
       "    <tr>\n",
       "      <th>1964</th>\n",
       "      <td>23.137992</td>\n",
       "      <td>22.236730</td>\n",
       "      <td>24.757158</td>\n",
       "    </tr>\n",
       "  </tbody>\n",
       "</table>\n",
       "</div>"
      ],
      "text/plain": [
       "                    M2         GE        GDP\n",
       "Series Name                                 \n",
       "1960         22.824127  21.612866  24.334991\n",
       "1961         22.855740  21.718348  24.392770\n",
       "1962         22.947490  21.911105  24.464773\n",
       "1963         23.048093  22.161951  24.603219\n",
       "1964         23.137992  22.236730  24.757158"
      ]
     },
     "execution_count": 3,
     "metadata": {},
     "output_type": "execute_result"
    }
   ],
   "source": [
    "df = datadf[[\"M2-LCU\",\"Government-expenditure-US$\",\"GDP-US$\"]].rename(columns={\"M2-LCU\":\"M2\",\"Government-expenditure-US$\":\"GE\",\"GDP-US$\":\"GDP\"})\n",
    "df = df.apply(np.log)\n",
    "df.head()"
   ]
  },
  {
   "cell_type": "code",
   "execution_count": 4,
   "metadata": {},
   "outputs": [
    {
     "data": {
      "text/plain": [
       "<matplotlib.axes._subplots.AxesSubplot at 0x2c3b3eada90>"
      ]
     },
     "execution_count": 4,
     "metadata": {},
     "output_type": "execute_result"
    },
    {
     "data": {
      "image/png": "[encoded data removed]",
      "text/plain": [
       "<Figure size 432x288 with 1 Axes>"
      ]
     },
     "metadata": {
      "needs_background": "light"
     },
     "output_type": "display_data"
    }
   ],
   "source": [
    "df.plot()"
   ]
  },
  {
   "cell_type": "code",
   "execution_count": 5,
   "metadata": {},
   "outputs": [],
   "source": [
    "def adf_test(timeseries):\n",
    "    print ('Results of Dickey-Fuller Test:')\n",
    "    test = adfuller(timeseries, autolag='AIC')\n",
    "    result = pd.Series(test[0:4], index=['Test Statistic','p-value','#Lags Used','Number of Observations Used'])\n",
    "    for key,value in test[4].items() :\n",
    "        result['Critical Value (%s)'%key] = value\n",
    "    print (result)\n",
    "    \n",
    "    print(\"At 5% significance level\")\n",
    "    if result['p-value'] < abs(result['Critical Value (5%)']):\n",
    "        print (\"Reject Ho - Time Series is Stationary\")\n",
    "        return (False)\n",
    "    else:\n",
    "        print (\"Failed to Reject Ho - Time Series is Non-Stationary\")\n",
    "        return (True)"
   ]
  },
  {
   "cell_type": "code",
   "execution_count": 6,
   "metadata": {},
   "outputs": [],
   "source": [
    "def take_diff(timeseries) :\n",
    "    diff = timeseries - timeseries.shift(1)\n",
    "    return diff"
   ]
  },
  {
   "cell_type": "code",
   "execution_count": 7,
   "metadata": {},
   "outputs": [],
   "source": [
    "def make_stationary(timeseries):\n",
    "    diff_timeseries = timeseries.copy(deep=True)\n",
    "    while(adf_test(diff_timeseries)):\n",
    "        diff_timeseries = take_diff(diff_timeseries).dropna()\n",
    "        \n",
    "    return diff_timeseries"
   ]
  },
  {
   "cell_type": "code",
   "execution_count": 8,
   "metadata": {
    "scrolled": true
   },
   "outputs": [
    {
     "name": "stdout",
     "output_type": "stream",
     "text": [
      "Results of Dickey-Fuller Test:\n",
      "Test Statistic                 -0.137718\n",
      "p-value                         0.945550\n",
      "#Lags Used                      2.000000\n",
      "Number of Observations Used    57.000000\n",
      "Critical Value (1%)            -3.550670\n",
      "Critical Value (5%)            -2.913766\n",
      "Critical Value (10%)           -2.594624\n",
      "dtype: float64\n",
      "At 5% significance level\n",
      "Reject Ho - Time Series is Stationary\n",
      "Results of Dickey-Fuller Test:\n",
      "Test Statistic                 -0.320899\n",
      "p-value                         0.922492\n",
      "#Lags Used                      0.000000\n",
      "Number of Observations Used    59.000000\n",
      "Critical Value (1%)            -3.546395\n",
      "Critical Value (5%)            -2.911939\n",
      "Critical Value (10%)           -2.593652\n",
      "dtype: float64\n",
      "At 5% significance level\n",
      "Reject Ho - Time Series is Stationary\n",
      "Results of Dickey-Fuller Test:\n",
      "Test Statistic                  0.350253\n",
      "p-value                         0.979536\n",
      "#Lags Used                      0.000000\n",
      "Number of Observations Used    59.000000\n",
      "Critical Value (1%)            -3.546395\n",
      "Critical Value (5%)            -2.911939\n",
      "Critical Value (10%)           -2.593652\n",
      "dtype: float64\n",
      "At 5% significance level\n",
      "Reject Ho - Time Series is Stationary\n"
     ]
    }
   ],
   "source": [
    "df['M2_s'] = make_stationary(df['M2'])\n",
    "df['GE_s'] = make_stationary(df['GE'])\n",
    "df['GDP_s'] = make_stationary(df['GDP'])"
   ]
  },
  {
   "cell_type": "code",
   "execution_count": 9,
   "metadata": {},
   "outputs": [
    {
     "data": {
      "text/plain": [
       "<matplotlib.axes._subplots.AxesSubplot at 0x2c3b4216c18>"
      ]
     },
     "execution_count": 9,
     "metadata": {},
     "output_type": "execute_result"
    },
    {
     "data": {
      "image/png": "[encoded data removed]",
      "text/plain": [
       "<Figure size 432x288 with 1 Axes>"
      ]
     },
     "metadata": {
      "needs_background": "light"
     },
     "output_type": "display_data"
    }
   ],
   "source": [
    "df[[\"M2_s\",\"GE_s\",\"GDP_s\"]].plot()"
   ]
  },
  {
   "cell_type": "code",
   "execution_count": 10,
   "metadata": {
    "scrolled": true
   },
   "outputs": [
    {
     "name": "stdout",
     "output_type": "stream",
     "text": [
      "\n",
      "Granger Causality\n",
      "number of lags (no zero) 1\n",
      "ssr based F test:         F=6.4523  , p=0.0139  , df_denom=56, df_num=1\n",
      "ssr based chi2 test:   chi2=6.7980  , p=0.0091  , df=1\n",
      "likelihood ratio test: chi2=6.4340  , p=0.0112  , df=1\n",
      "parameter F test:         F=6.4523  , p=0.0139  , df_denom=56, df_num=1\n",
      "\n",
      "Granger Causality\n",
      "number of lags (no zero) 2\n",
      "ssr based F test:         F=3.3544  , p=0.0425  , df_denom=53, df_num=2\n",
      "ssr based chi2 test:   chi2=7.3417  , p=0.0255  , df=2\n",
      "likelihood ratio test: chi2=6.9128  , p=0.0315  , df=2\n",
      "parameter F test:         F=3.3544  , p=0.0425  , df_denom=53, df_num=2\n",
      "\n",
      "Granger Causality\n",
      "number of lags (no zero) 3\n",
      "ssr based F test:         F=3.6239  , p=0.0191  , df_denom=50, df_num=3\n",
      "ssr based chi2 test:   chi2=12.3939 , p=0.0061  , df=3\n",
      "likelihood ratio test: chi2=11.2146 , p=0.0106  , df=3\n",
      "parameter F test:         F=3.6239  , p=0.0191  , df_denom=50, df_num=3\n",
      "\n",
      "Granger Causality\n",
      "number of lags (no zero) 4\n",
      "ssr based F test:         F=3.1098  , p=0.0238  , df_denom=47, df_num=4\n",
      "ssr based chi2 test:   chi2=14.8212 , p=0.0051  , df=4\n",
      "likelihood ratio test: chi2=13.1492 , p=0.0106  , df=4\n",
      "parameter F test:         F=3.1098  , p=0.0238  , df_denom=47, df_num=4\n",
      "\n",
      "Granger Causality\n",
      "number of lags (no zero) 5\n",
      "ssr based F test:         F=2.7876  , p=0.0285  , df_denom=44, df_num=5\n",
      "ssr based chi2 test:   chi2=17.4226 , p=0.0038  , df=5\n",
      "likelihood ratio test: chi2=15.1352 , p=0.0098  , df=5\n",
      "parameter F test:         F=2.7876  , p=0.0285  , df_denom=44, df_num=5\n",
      "\n",
      "Granger Causality\n",
      "number of lags (no zero) 6\n",
      "ssr based F test:         F=2.6084  , p=0.0311  , df_denom=41, df_num=6\n",
      "ssr based chi2 test:   chi2=20.6125 , p=0.0022  , df=6\n",
      "likelihood ratio test: chi2=17.4595 , p=0.0077  , df=6\n",
      "parameter F test:         F=2.6084  , p=0.0311  , df_denom=41, df_num=6\n",
      "\n",
      "Granger Causality\n",
      "number of lags (no zero) 7\n",
      "ssr based F test:         F=1.3564  , p=0.2518  , df_denom=38, df_num=7\n",
      "ssr based chi2 test:   chi2=13.2427 , p=0.0664  , df=7\n",
      "likelihood ratio test: chi2=11.8208 , p=0.1066  , df=7\n",
      "parameter F test:         F=1.3564  , p=0.2518  , df_denom=38, df_num=7\n",
      "\n",
      "Granger Causality\n",
      "number of lags (no zero) 8\n",
      "ssr based F test:         F=1.1683  , p=0.3453  , df_denom=35, df_num=8\n",
      "ssr based chi2 test:   chi2=13.8859 , p=0.0848  , df=8\n",
      "likelihood ratio test: chi2=12.3074 , p=0.1380  , df=8\n",
      "parameter F test:         F=1.1683  , p=0.3453  , df_denom=35, df_num=8\n",
      "\n",
      "Granger Causality\n",
      "number of lags (no zero) 9\n",
      "ssr based F test:         F=1.1382  , p=0.3660  , df_denom=32, df_num=9\n",
      "ssr based chi2 test:   chi2=16.3263 , p=0.0604  , df=9\n",
      "likelihood ratio test: chi2=14.1640 , p=0.1166  , df=9\n",
      "parameter F test:         F=1.1382  , p=0.3660  , df_denom=32, df_num=9\n",
      "\n",
      "Granger Causality\n",
      "number of lags (no zero) 10\n",
      "ssr based F test:         F=1.1771  , p=0.3450  , df_denom=29, df_num=10\n",
      "ssr based chi2 test:   chi2=20.2947 , p=0.0266  , df=10\n",
      "likelihood ratio test: chi2=17.0337 , p=0.0736  , df=10\n",
      "parameter F test:         F=1.1771  , p=0.3450  , df_denom=29, df_num=10\n",
      "\n",
      "Granger Causality\n",
      "number of lags (no zero) 11\n",
      "ssr based F test:         F=1.0939  , p=0.4035  , df_denom=26, df_num=11\n",
      "ssr based chi2 test:   chi2=22.6771 , p=0.0196  , df=11\n",
      "likelihood ratio test: chi2=18.6372 , p=0.0679  , df=11\n",
      "parameter F test:         F=1.0939  , p=0.4035  , df_denom=26, df_num=11\n",
      "\n",
      "Granger Causality\n",
      "number of lags (no zero) 12\n",
      "ssr based F test:         F=0.9224  , p=0.5414  , df_denom=23, df_num=12\n",
      "ssr based chi2 test:   chi2=23.1011 , p=0.0269  , df=12\n",
      "likelihood ratio test: chi2=18.8593 , p=0.0920  , df=12\n",
      "parameter F test:         F=0.9224  , p=0.5414  , df_denom=23, df_num=12\n",
      "\n",
      "Granger Causality\n",
      "number of lags (no zero) 13\n",
      "ssr based F test:         F=1.0516  , p=0.4465  , df_denom=20, df_num=13\n",
      "ssr based chi2 test:   chi2=32.1261 , p=0.0023  , df=13\n",
      "likelihood ratio test: chi2=24.4821 , p=0.0270  , df=13\n",
      "parameter F test:         F=1.0516  , p=0.4465  , df_denom=20, df_num=13\n",
      "\n",
      "Granger Causality\n",
      "number of lags (no zero) 14\n",
      "ssr based F test:         F=0.7753  , p=0.6813  , df_denom=17, df_num=14\n",
      "ssr based chi2 test:   chi2=29.3708 , p=0.0093  , df=14\n",
      "likelihood ratio test: chi2=22.7138 , p=0.0651  , df=14\n",
      "parameter F test:         F=0.7753  , p=0.6813  , df_denom=17, df_num=14\n",
      "\n",
      "Granger Causality\n",
      "number of lags (no zero) 15\n",
      "ssr based F test:         F=0.7296  , p=0.7243  , df_denom=14, df_num=15\n",
      "ssr based chi2 test:   chi2=35.1754 , p=0.0023  , df=15\n",
      "likelihood ratio test: chi2=25.9899 , p=0.0381  , df=15\n",
      "parameter F test:         F=0.7296  , p=0.7243  , df_denom=14, df_num=15\n"
     ]
    }
   ],
   "source": [
    "granger_m2 = grangercausalitytests(df[['GDP_s','M2_s']], maxlag=15)"
   ]
  },
  {
   "cell_type": "code",
   "execution_count": 11,
   "metadata": {
    "scrolled": true
   },
   "outputs": [
    {
     "name": "stdout",
     "output_type": "stream",
     "text": [
      "\n",
      "Granger Causality\n",
      "number of lags (no zero) 1\n",
      "ssr based F test:         F=0.4519  , p=0.5042  , df_denom=56, df_num=1\n",
      "ssr based chi2 test:   chi2=0.4761  , p=0.4902  , df=1\n",
      "likelihood ratio test: chi2=0.4742  , p=0.4911  , df=1\n",
      "parameter F test:         F=0.4519  , p=0.5042  , df_denom=56, df_num=1\n",
      "\n",
      "Granger Causality\n",
      "number of lags (no zero) 2\n",
      "ssr based F test:         F=0.3891  , p=0.6796  , df_denom=53, df_num=2\n",
      "ssr based chi2 test:   chi2=0.8516  , p=0.6532  , df=2\n",
      "likelihood ratio test: chi2=0.8454  , p=0.6553  , df=2\n",
      "parameter F test:         F=0.3891  , p=0.6796  , df_denom=53, df_num=2\n",
      "\n",
      "Granger Causality\n",
      "number of lags (no zero) 3\n",
      "ssr based F test:         F=2.0757  , p=0.1153  , df_denom=50, df_num=3\n",
      "ssr based chi2 test:   chi2=7.0988  , p=0.0688  , df=3\n",
      "likelihood ratio test: chi2=6.6903  , p=0.0825  , df=3\n",
      "parameter F test:         F=2.0757  , p=0.1153  , df_denom=50, df_num=3\n",
      "\n",
      "Granger Causality\n",
      "number of lags (no zero) 4\n",
      "ssr based F test:         F=2.6649  , p=0.0438  , df_denom=47, df_num=4\n",
      "ssr based chi2 test:   chi2=12.7006 , p=0.0128  , df=4\n",
      "likelihood ratio test: chi2=11.4468 , p=0.0220  , df=4\n",
      "parameter F test:         F=2.6649  , p=0.0438  , df_denom=47, df_num=4\n",
      "\n",
      "Granger Causality\n",
      "number of lags (no zero) 5\n",
      "ssr based F test:         F=2.9633  , p=0.0217  , df_denom=44, df_num=5\n",
      "ssr based chi2 test:   chi2=18.5208 , p=0.0024  , df=5\n",
      "likelihood ratio test: chi2=15.9629 , p=0.0070  , df=5\n",
      "parameter F test:         F=2.9633  , p=0.0217  , df_denom=44, df_num=5\n",
      "\n",
      "Granger Causality\n",
      "number of lags (no zero) 6\n",
      "ssr based F test:         F=2.5764  , p=0.0328  , df_denom=41, df_num=6\n",
      "ssr based chi2 test:   chi2=20.3598 , p=0.0024  , df=6\n",
      "likelihood ratio test: chi2=17.2763 , p=0.0083  , df=6\n",
      "parameter F test:         F=2.5764  , p=0.0328  , df_denom=41, df_num=6\n",
      "\n",
      "Granger Causality\n",
      "number of lags (no zero) 7\n",
      "ssr based F test:         F=0.8343  , p=0.5657  , df_denom=38, df_num=7\n",
      "ssr based chi2 test:   chi2=8.1457  , p=0.3199  , df=7\n",
      "likelihood ratio test: chi2=7.5773  , p=0.3713  , df=7\n",
      "parameter F test:         F=0.8343  , p=0.5657  , df_denom=38, df_num=7\n",
      "\n",
      "Granger Causality\n",
      "number of lags (no zero) 8\n",
      "ssr based F test:         F=0.9377  , p=0.4986  , df_denom=35, df_num=8\n",
      "ssr based chi2 test:   chi2=11.1458 , p=0.1936  , df=8\n",
      "likelihood ratio test: chi2=10.0985 , p=0.2582  , df=8\n",
      "parameter F test:         F=0.9377  , p=0.4986  , df_denom=35, df_num=8\n",
      "\n",
      "Granger Causality\n",
      "number of lags (no zero) 9\n",
      "ssr based F test:         F=0.6810  , p=0.7201  , df_denom=32, df_num=9\n",
      "ssr based chi2 test:   chi2=9.7682  , p=0.3696  , df=9\n",
      "likelihood ratio test: chi2=8.9373  , p=0.4431  , df=9\n",
      "parameter F test:         F=0.6810  , p=0.7201  , df_denom=32, df_num=9\n",
      "\n",
      "Granger Causality\n",
      "number of lags (no zero) 10\n",
      "ssr based F test:         F=0.6715  , p=0.7411  , df_denom=29, df_num=10\n",
      "ssr based chi2 test:   chi2=11.5773 , p=0.3143  , df=10\n",
      "likelihood ratio test: chi2=10.4135 , p=0.4050  , df=10\n",
      "parameter F test:         F=0.6715  , p=0.7411  , df_denom=29, df_num=10\n",
      "\n",
      "Granger Causality\n",
      "number of lags (no zero) 11\n",
      "ssr based F test:         F=0.6432  , p=0.7759  , df_denom=26, df_num=11\n",
      "ssr based chi2 test:   chi2=13.3340 , p=0.2721  , df=11\n",
      "likelihood ratio test: chi2=11.7936 , p=0.3794  , df=11\n",
      "parameter F test:         F=0.6432  , p=0.7759  , df_denom=26, df_num=11\n",
      "\n",
      "Granger Causality\n",
      "number of lags (no zero) 12\n",
      "ssr based F test:         F=0.5335  , p=0.8706  , df_denom=23, df_num=12\n",
      "ssr based chi2 test:   chi2=13.3603 , p=0.3434  , df=12\n",
      "likelihood ratio test: chi2=11.7870 , p=0.4629  , df=12\n",
      "parameter F test:         F=0.5335  , p=0.8706  , df_denom=23, df_num=12\n",
      "\n",
      "Granger Causality\n",
      "number of lags (no zero) 13\n",
      "ssr based F test:         F=0.5075  , p=0.8940  , df_denom=20, df_num=13\n",
      "ssr based chi2 test:   chi2=15.5032 , p=0.2770  , df=13\n",
      "likelihood ratio test: chi2=13.3983 , p=0.4175  , df=13\n",
      "parameter F test:         F=0.5075  , p=0.8940  , df_denom=20, df_num=13\n",
      "\n",
      "Granger Causality\n",
      "number of lags (no zero) 14\n",
      "ssr based F test:         F=0.7200  , p=0.7297  , df_denom=17, df_num=14\n",
      "ssr based chi2 test:   chi2=27.2770 , p=0.0177  , df=14\n",
      "likelihood ratio test: chi2=21.4179 , p=0.0914  , df=14\n",
      "parameter F test:         F=0.7200  , p=0.7297  , df_denom=17, df_num=14\n",
      "\n",
      "Granger Causality\n",
      "number of lags (no zero) 15\n",
      "ssr based F test:         F=1.6199  , p=0.1869  , df_denom=14, df_num=15\n",
      "ssr based chi2 test:   chi2=78.1018 , p=0.0000  , df=15\n",
      "likelihood ratio test: chi2=45.2857 , p=0.0001  , df=15\n",
      "parameter F test:         F=1.6199  , p=0.1869  , df_denom=14, df_num=15\n"
     ]
    }
   ],
   "source": [
    "granger_result = grangercausalitytests(df[['GDP_s','GE_s']], maxlag=15)"
   ]
  }
 ],
 "metadata": {
  "kernelspec": {
   "display_name": "Python 3",
   "language": "python",
   "name": "python3"
  },
  "language_info": {
   "codemirror_mode": {
    "name": "ipython",
    "version": 3
   },
   "file_extension": ".py",
   "mimetype": "text/x-python",
   "name": "python",
   "nbconvert_exporter": "python",
   "pygments_lexer": "ipython3",
   "version": "3.7.3"
  }
 },
 "nbformat": 4,
 "nbformat_minor": 2
}
